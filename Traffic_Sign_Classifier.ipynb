{
 "cells": [
  {
   "cell_type": "markdown",
   "metadata": {},
   "source": [
    "# Self-Driving Car Engineer Nanodegree\n",
    "\n",
    "## Deep Learning\n",
    "\n",
    "## Project: Build a Traffic Sign Recognition Classifier\n",
    "\n",
    "In this notebook, we build a Convolution Network to classify German Traffic Signs. This is the second porject of the first term in the Udacity Self Driving Car Engineer nanodegree. The objective is to achive at least 93% accuracy on the test sample with a Neural Network we have to implement.\n",
    "We roughly follow the ideas from the paper http://yann.lecun.com/exdb/publis/pdf/sermanet-ijcnn-11.pdf.\n",
    "First we explore the Data, augment it and preprocess it.\n",
    "We then build the Convolution Network, whose architecture is described further below.\n",
    "Finally, we train it and test it on the test data, and also on an extra set of images we obtained from the internet, to further evaluate its robustness."
   ]
  },
  {
   "cell_type": "markdown",
   "metadata": {},
   "source": [
    "---\n",
    "## Step 0: Load The Data"
   ]
  },
  {
   "cell_type": "code",
   "execution_count": 1,
   "metadata": {},
   "outputs": [
    {
     "name": "stdout",
     "output_type": "stream",
     "text": [
      "Datasets have already been downloaded.\n"
     ]
    }
   ],
   "source": [
    "# In general, but specially if we are going to use AWS, it is good practice\n",
    "# to automate the routine that downloads and unzips the data\n",
    "\n",
    "import os\n",
    "from urllib.request import urlretrieve\n",
    "from zipfile import ZipFile\n",
    "\n",
    "Data_dir = \"Data\"\n",
    "source = \"https://d17h27t6h515a5.cloudfront.net/topher/2017/February/5898cd6f_traffic-signs-data/traffic-signs-data.zip\"\n",
    "\n",
    "if not os.path.exists(Data_dir):\n",
    "    os.makedirs(Data_dir)\n",
    "\n",
    "target = os.path.join(Data_dir, \"Data.zip\")\n",
    "\n",
    "if not os.path.isfile(target):\n",
    "    urlretrieve(source, target)\n",
    "    print(\"Finished downloading datasets.\")\n",
    "else:\n",
    "    print(\"Datasets have already been downloaded.\")"
   ]
  },
  {
   "cell_type": "code",
   "execution_count": 2,
   "metadata": {},
   "outputs": [
    {
     "name": "stdout",
     "output_type": "stream",
     "text": [
      "Finished extracting zip files.\n"
     ]
    }
   ],
   "source": [
    "# we now unzip it if necessary\n",
    "\n",
    "unzipped_ = os.path.isdir(os.path.join(Data_dir, \"training\"))\n",
    "\n",
    "if not unzipped_:\n",
    "    with ZipFile(target, \"r\") as zipped:\n",
    "        zipped.extractall(Data_dir)\n",
    "    print(\"Finished extracting zip files.\")\n",
    "else:\n",
    "    print(\"Unzipped files found - skipping.\")"
   ]
  },
  {
   "cell_type": "code",
   "execution_count": 3,
   "metadata": {
    "collapsed": true
   },
   "outputs": [],
   "source": [
    "# Load pickled data\n",
    "import pickle\n",
    "\n",
    "training_file = 'Data/train.p'\n",
    "validation_file= 'Data/valid.p'\n",
    "testing_file = 'Data/test.p'\n",
    "\n",
    "with open(training_file, mode='rb') as f:\n",
    "    train = pickle.load(f)\n",
    "with open(validation_file, mode='rb') as f:\n",
    "    valid = pickle.load(f)\n",
    "with open(testing_file, mode='rb') as f:\n",
    "    test = pickle.load(f)\n",
    "    \n",
    "X_train, y_train = train['features'], train['labels']\n",
    "X_validation, y_validation = valid['features'], valid['labels']\n",
    "X_test, y_test = test['features'], test['labels']"
   ]
  },
  {
   "cell_type": "markdown",
   "metadata": {},
   "source": [
    "---\n",
    "\n",
    "## Step 1: Dataset Summary & Exploration\n",
    "\n",
    "The pickled data is a dictionary with 4 key/value pairs:\n",
    "\n",
    "- `'features'` is a 4D array containing raw pixel data of the traffic sign images, (num examples, width, height, channels).\n",
    "- `'labels'` is a 1D array containing the label/class id of the traffic sign. The file `signnames.csv` contains id -> name mappings for each id.\n",
    "- `'sizes'` is a list containing tuples, (width, height) representing the original width and height the image.\n",
    "- `'coords'` is a list containing tuples, (x1, y1, x2, y2) representing coordinates of a bounding box around the sign in the image. **THESE COORDINATES ASSUME THE ORIGINAL IMAGE. THE PICKLED DATA CONTAINS RESIZED VERSIONS (32 by 32) OF THESE IMAGES**\n",
    "\n"
   ]
  },
  {
   "cell_type": "markdown",
   "metadata": {},
   "source": [
    "### Provide a Basic Summary of the Data Set Using Python, Numpy and/or Pandas"
   ]
  },
  {
   "cell_type": "code",
   "execution_count": 4,
   "metadata": {},
   "outputs": [
    {
     "name": "stdout",
     "output_type": "stream",
     "text": [
      "Number of training examples = 34799\n",
      "Number of validating examples = 4410\n",
      "Number of testing examples = 12630\n",
      "Image data shape = (32, 32, 3)\n",
      "Number of classes = 43\n"
     ]
    }
   ],
   "source": [
    "### Quick overview of the dataset\n",
    "import numpy as np\n",
    "\n",
    "n_train = len(X_train)\n",
    "n_validation = len(X_validation)\n",
    "n_test = len(X_test)\n",
    "image_shape = X_train[0].shape\n",
    "sign_classes, class_indices, class_counts = np.unique(y_train, return_index = True, return_counts = True)\n",
    "sign_classes_v, class_indices_v, class_counts_v = np.unique(y_validation, return_index = True, return_counts = True)\n",
    "sign_classes_t, class_indices_t, class_counts_t = np.unique(y_test, return_index = True, return_counts = True)\n",
    "n_classes = len(class_counts)\n",
    "\n",
    "print(\"Number of training examples =\", n_train)\n",
    "print(\"Number of validating examples =\", n_validation)\n",
    "print(\"Number of testing examples =\", n_test)\n",
    "print(\"Image data shape =\", image_shape)\n",
    "print(\"Number of classes =\", n_classes)"
   ]
  },
  {
   "cell_type": "markdown",
   "metadata": {},
   "source": [
    "### Exploratory visualization of the dataset"
   ]
  },
  {
   "cell_type": "markdown",
   "metadata": {},
   "source": [
    "Here we visualize our data, allowing us to become familiar with its structure, as well as with potential issues that might arise when developing and training our network.\n",
    "We first take a look at a few of the types of traffic signs in our data, and we then compute and plot the frequency of each label in our train, validation and test data sets."
   ]
  },
  {
   "cell_type": "code",
   "execution_count": 5,
   "metadata": {},
   "outputs": [
    {
     "name": "stdout",
     "output_type": "stream",
     "text": [
      "Label 3: Speed limit (60km/h)                                1260 samples\n"
     ]
    },
    {
     "data": {
      "image/png": "[encoded data removed]",
      "text/plain": [
       "<matplotlib.figure.Figure at 0x7fe14d87a940>"
      ]
     },
     "metadata": {},
     "output_type": "display_data"
    },
    {
     "name": "stdout",
     "output_type": "stream",
     "text": [
      "Label 6: End of speed limit (80km/h)                         360 samples\n"
     ]
    },
    {
     "data": {
      "image/png": "[encoded data removed]",
      "text/plain": [
       "<matplotlib.figure.Figure at 0x7fe15a2b9978>"
      ]
     },
     "metadata": {},
     "output_type": "display_data"
    },
    {
     "name": "stdout",
     "output_type": "stream",
     "text": [
      "Label 9: No passing                                          1320 samples\n"
     ]
    },
    {
     "data": {
      "image/png": "[encoded data removed]",
      "text/plain": [
       "<matplotlib.figure.Figure at 0x7fe14b2d95c0>"
      ]
     },
     "metadata": {},
     "output_type": "display_data"
    },
    {
     "name": "stdout",
     "output_type": "stream",
     "text": [
      "Label 11: Right-of-way at the next intersection               1170 samples\n"
     ]
    },
    {
     "data": {
      "image/png": "[encoded data removed]",
      "text/plain": [
       "<matplotlib.figure.Figure at 0x7fe14b560f60>"
      ]
     },
     "metadata": {},
     "output_type": "display_data"
    },
    {
     "name": "stdout",
     "output_type": "stream",
     "text": [
      "Label 12: Priority road                                       1890 samples\n"
     ]
    },
    {
     "data": {
      "image/png": "[encoded data removed]",
      "text/plain": [
       "<matplotlib.figure.Figure at 0x7fe14b1665f8>"
      ]
     },
     "metadata": {},
     "output_type": "display_data"
    },
    {
     "name": "stdout",
     "output_type": "stream",
     "text": [
      "Label 20: Dangerous curve to the right                        300 samples\n"
     ]
    },
    {
     "data": {
      "image/png": "[encoded data removed]",
      "text/plain": [
       "<matplotlib.figure.Figure at 0x7fe14af96c18>"
      ]
     },
     "metadata": {},
     "output_type": "display_data"
    },
    {
     "name": "stdout",
     "output_type": "stream",
     "text": [
      "Label 39: Keep left                                           270 samples\n"
     ]
    },
    {
     "data": {
      "image/png": "[encoded data removed]",
      "text/plain": [
       "<matplotlib.figure.Figure at 0x7fe14afe6c18>"
      ]
     },
     "metadata": {},
     "output_type": "display_data"
    }
   ],
   "source": [
    "import random\n",
    "from pandas.io.parsers import read_csv\n",
    "import numpy as np\n",
    "import matplotlib\n",
    "import matplotlib.pyplot as plt\n",
    "%matplotlib inline\n",
    "signnames = read_csv(\"signnames.csv\").values[:, 1]\n",
    "\n",
    "col_width = max(len(name) for name in signnames)\n",
    "labels_fraction = 0.15\n",
    "\n",
    "for label, label_index, label_count in zip(sign_classes, class_indices, class_counts):\n",
    "    if random.uniform(0,1)<labels_fraction:\n",
    "        print(\"Label %i: %-*s  %s samples\" % (label, col_width, signnames[label], str(label_count)))\n",
    "        fig = plt.figure(figsize = (7, 5))\n",
    "        fig.subplots_adjust(left = 0, right = 1, bottom = 0, top = 1, hspace = 0.05, wspace = 0.15)\n",
    "        random_indices = random.sample(range(label_index, label_index + label_count), 5)\n",
    "        for i in range(5):\n",
    "            axis = fig.add_subplot(1, 5, i + 1, xticks=[], yticks=[])\n",
    "            axis.imshow(X_train[random_indices[i]])\n",
    "        plt.show()\n",
    "        \n",
    "\n"
   ]
  },
  {
   "cell_type": "markdown",
   "metadata": {},
   "source": [
    "## Frequencies\n",
    "We now want to plot the frequncies of each label in each of our data sets (trainig, validation and testing)."
   ]
  },
  {
   "cell_type": "code",
   "execution_count": 6,
   "metadata": {},
   "outputs": [
    {
     "data": {
      "image/png": "[encoded data removed]",
      "text/plain": [
       "<matplotlib.figure.Figure at 0x7fe17e796f28>"
      ]
     },
     "metadata": {},
     "output_type": "display_data"
    },
    {
     "data": {
      "image/png": "[encoded data removed]",
      "text/plain": [
       "<matplotlib.figure.Figure at 0x7fe15c8cf320>"
      ]
     },
     "metadata": {},
     "output_type": "display_data"
    },
    {
     "data": {
      "image/png": "[encoded data removed]",
      "text/plain": [
       "<matplotlib.figure.Figure at 0x7fe14b0def98>"
      ]
     },
     "metadata": {},
     "output_type": "display_data"
    },
    {
     "data": {
      "text/plain": [
       "<matplotlib.figure.Figure at 0x7fe14b101be0>"
      ]
     },
     "metadata": {},
     "output_type": "display_data"
    }
   ],
   "source": [
    "label_dict = {\n",
    "    \"training\": class_counts,\n",
    "    \"validation\": class_counts_v,\n",
    "    \"testing\": class_counts_t\n",
    "}\n",
    "\n",
    "for stage, y in label_dict.items():\n",
    "    plt.bar( np.arange( 43 ), y, align='center' )\n",
    "    plt.title(\"Histogram of label frequencies in {} set\".format(stage))\n",
    "    plt.xlabel(\"Labels\")\n",
    "    plt.ylabel(\"Frequency\")\n",
    "    plt.xticks(range(0, 43, 5))\n",
    "    plt.show()\n",
    "    plt.savefig(\"examples/Frequencies_{}.png\".format(stage))"
   ]
  },
  {
   "cell_type": "markdown",
   "metadata": {},
   "source": [
    "### Augmenting the dataset\n",
    "\n",
    "For some of our labels we have very few examples in our data. A simple way to obtain more examples, while at the same time increasing the robustness of our model, is to perturbate the images we already have. \n",
    "Whether the sign is displaced a couple pixels, slightly rotated or a bit blurred should (ideally) not have an effect on the way we would classify it. Therefore, we can introduce these transformations of our images to increase the amount of data we will feed to our classifier.\n",
    "\n",
    "Usually it would be a good idea to also introduce some redundancy for those labels that are underrepresented in our training data, but since the distribution of the labels looks fairly similar across all three data sets, this is a step we will not introduce (implicitly, we are assuming that the frequency of the signs in the real world is similar to the one we see in our data, and therefore that a random sample would look not too different from the data set).\n",
    "\n",
    "Below we will introduce a few transformations that we will use to augment the data:\n",
    "* Shifts\n",
    "* Rotations\n",
    "* Homography\n",
    "* Blurs\n",
    "* Noise"
   ]
  },
  {
   "cell_type": "code",
   "execution_count": 7,
   "metadata": {},
   "outputs": [
    {
     "name": "stdout",
     "output_type": "stream",
     "text": [
      "5\n"
     ]
    },
    {
     "data": {
      "image/png": "[encoded data removed]",
      "text/plain": [
       "<matplotlib.figure.Figure at 0x7fe17dcc3240>"
      ]
     },
     "metadata": {},
     "output_type": "display_data"
    }
   ],
   "source": [
    "index = random.randint(0, len(X_train))\n",
    "image = X_train[index].squeeze()\n",
    "plt.figure(figsize=(1,1))\n",
    "plt.imshow(image)\n",
    "print(y_train[index])"
   ]
  },
  {
   "cell_type": "code",
   "execution_count": 8,
   "metadata": {},
   "outputs": [],
   "source": [
    "import cv2\n",
    "\n",
    "\n",
    "def apply_shift(img):\n",
    "    which_axis = random.randrange(2)\n",
    "    shapex = img.shape[0]\n",
    "    shapey = img.shape[1]\n",
    "    \n",
    "    if which_axis < 1:\n",
    "        aux0, aux1 = img[0,:], img[1,:]\n",
    "        img[0,:], img[1,:] = img[shapex-2,:], img[shapex-1,:]\n",
    "        img[shapex-2,:], img[shapex-1,:] = aux0, aux1\n",
    "         \n",
    "    \n",
    "    else:\n",
    "        aux0, aux1 = img[:,0], img[:,1]\n",
    "        img[:,0], img[:,1] = img[:,shapey-2], img[:,shapey-1]\n",
    "        img[:,shapey-2], img[:,shapey-1] = aux0, aux1\n",
    "         \n",
    "    \n",
    "    return img\n",
    "\n",
    "def apply_rotation(img):\n",
    "    M = cv2.getRotationMatrix2D((16,16),np.random.uniform(-20,20),1)\n",
    "    return cv2.warpAffine(img, M, (32,32))\n",
    "\n",
    "def apply_homography(img):\n",
    "    source_points = np.array([[12,16], [16,20], [20,16], [16,12]],np.float32)\n",
    "    noise = np.random.normal(scale=0.2, size=source_points.shape)\n",
    "    target_points = source_points + noise\n",
    "    h, status = cv2.findHomography(source_points, target_points)\n",
    "    im_out = cv2.warpPerspective(img, h, dsize=(32,32))\n",
    "    return im_out\n",
    "\n",
    "def apply_blur(img):\n",
    "    return cv2.GaussianBlur(img,(3,3),0)\n",
    "\n",
    "def apply_noise(img):\n",
    "    noise = np.random.normal(scale=3.0,size=img.shape)\n",
    "    return np.clip(np.round(img + noise), 0.0, 256.0).astype(np.uint8)"
   ]
  },
  {
   "cell_type": "markdown",
   "metadata": {},
   "source": [
    "Now that we have defined our transformations, we will runa  quick example of what this transformations look like."
   ]
  },
  {
   "cell_type": "code",
   "execution_count": 9,
   "metadata": {},
   "outputs": [
    {
     "data": {
      "image/png": "[encoded data removed]",
      "text/plain": [
       "<matplotlib.figure.Figure at 0x7fe14b2188d0>"
      ]
     },
     "metadata": {},
     "output_type": "display_data"
    },
    {
     "data": {
      "image/png": "[encoded data removed]",
      "text/plain": [
       "<matplotlib.figure.Figure at 0x7fe14b1bf828>"
      ]
     },
     "metadata": {},
     "output_type": "display_data"
    },
    {
     "data": {
      "image/png": "[encoded data removed]",
      "text/plain": [
       "<matplotlib.figure.Figure at 0x7fe14b073780>"
      ]
     },
     "metadata": {},
     "output_type": "display_data"
    },
    {
     "data": {
      "image/png": "[encoded data removed]",
      "text/plain": [
       "<matplotlib.figure.Figure at 0x7fe14af0e6d8>"
      ]
     },
     "metadata": {},
     "output_type": "display_data"
    },
    {
     "data": {
      "image/png": "[encoded data removed]",
      "text/plain": [
       "<matplotlib.figure.Figure at 0x7fe14b1e4198>"
      ]
     },
     "metadata": {},
     "output_type": "display_data"
    }
   ],
   "source": [
    "l_transforms = [apply_shift, apply_rotation, apply_homography, apply_blur, apply_noise] \n",
    "l_nm = [\"shift\", \"rotation\", \"homography\", \"blur\", \"noise\"] \n",
    "\n",
    "for tran, nm in zip(l_transforms, l_nm):\n",
    "    img = tran(X_train[index])\n",
    "    plt.figure(figsize=(2,2))\n",
    "    plt.title(\"Transformation: {}.\".format(nm))\n",
    "    plt.imshow(img)\n",
    "    plt.savefig(\"examples/Transformation_{}.png\".format(nm))\n",
    "    \n",
    "\n"
   ]
  },
  {
   "cell_type": "markdown",
   "metadata": {},
   "source": [
    "We are now ready to augment the data. Applying these transformations to our training set will increase the amount of training examples by 500%! We expect our model to be more robust, but it will also take longer to train. We will actually run the data augmentation with each batch of our training (and it will already be in grayscale, which explains the shape we are imposing)."
   ]
  },
  {
   "cell_type": "code",
   "execution_count": 10,
   "metadata": {
    "collapsed": true
   },
   "outputs": [],
   "source": [
    "from sklearn.utils import shuffle\n",
    "\n",
    "def build_augmented_dataset(X, Y):\n",
    "    \n",
    "    shifts = [np.reshape(apply_shift(x),(32,32,1)) for x in X]  \n",
    "    rotations = [np.reshape(apply_rotation(x),(32,32,1)) for x in X]\n",
    "    homographies = [np.reshape(apply_homography(x),(32,32,1)) for x in X]\n",
    "    blurs = [np.reshape(apply_blur(x),(32,32,1)) for x in X]\n",
    "    noisy = [np.reshape(apply_noise(x),(32,32,1)) for x in X]    \n",
    "    to_stack = (X, shifts, rotations, homographies, blurs, noisy)\n",
    "    augmented_X = np.concatenate(to_stack, axis=0)\n",
    "    augmented_Y = np.concatenate(len(to_stack)*(Y,),axis=0)\n",
    "    augmented_X, augmented_Y = shuffle(augmented_X, augmented_Y)\n",
    "    \n",
    "    return augmented_X, augmented_Y\n",
    "\n"
   ]
  },
  {
   "cell_type": "markdown",
   "metadata": {},
   "source": [
    "----\n",
    "\n",
    "## Step 2: Design and Test a Model Architecture\n",
    "\n",
    "It is now time to build and train our classifier. In order to do so we will come up with a network architecture (which will be heavily based on the one proposed by http://yann.lecun.com/exdb/publis/pdf/sermanet-ijcnn-11.pdf). Deciding what the best network architecure might be for a given problem is more art than science (at least until now), so we tested the simpler LeNet network we had from the lessons, but after reading the above paper, we decided to follow the newer approach.\n",
    "We will also convert our images to grayscale and normalize them. The data augmentation will happen during the training, with each batch of the training data bein augmented in situ, instead of creating very large data files. We will not create a balanced data set. The reason, as we mentioned above, is that all three data sets have similar distributions, and without any other information, it is reasonable to suppose that the frequencies in the data set reflect the frequencies in the German roads. If we had more information, or if we considered that certain mistakes are more costly than others (say missing a STOP sign is more dangerous than missing the 80km/h speed limit), we could try and reflect that in our data set."
   ]
  },
  {
   "cell_type": "markdown",
   "metadata": {},
   "source": [
    "### Pre-process the Data Set "
   ]
  },
  {
   "cell_type": "markdown",
   "metadata": {},
   "source": [
    "We have three steps to our preprocessing:\n",
    "* Turning the images into grayscale\n",
    "* Performing histogram equalization\n",
    "* Normalizing the data"
   ]
  },
  {
   "cell_type": "code",
   "execution_count": 11,
   "metadata": {},
   "outputs": [
    {
     "name": "stdout",
     "output_type": "stream",
     "text": [
      "18\n"
     ]
    },
    {
     "data": {
      "image/png": "[encoded data removed]",
      "text/plain": [
       "<matplotlib.figure.Figure at 0x7fe14b2181d0>"
      ]
     },
     "metadata": {},
     "output_type": "display_data"
    }
   ],
   "source": [
    "### First we convert to Grayscale which, according to Sermante and LeCun, actually improves the performance.\n",
    "\n",
    "import math\n",
    "\n",
    "\n",
    "def grayscale(img):    \n",
    "    return cv2.cvtColor(img, cv2.COLOR_RGB2GRAY)    \n",
    "\n",
    "X_train = np.array([grayscale(img) for img in X_train])\n",
    "X_validation = np.array([grayscale(img) for img in X_validation])\n",
    "X_test = np.array([grayscale(img) for img in X_test])\n",
    "\n",
    "index = random.randint(0, len(X_train))\n",
    "image = X_train[index].squeeze()\n",
    "plt.figure(figsize=(1,1))\n",
    "plt.imshow(image, cmap='gray')\n",
    "print(y_train[index])\n",
    "#print(X_train[index])\n",
    "\n",
    "\n"
   ]
  },
  {
   "cell_type": "code",
   "execution_count": 12,
   "metadata": {},
   "outputs": [
    {
     "name": "stdout",
     "output_type": "stream",
     "text": [
      "18\n"
     ]
    },
    {
     "data": {
      "image/png": "[encoded data removed]",
      "text/plain": [
       "<matplotlib.figure.Figure at 0x7fe139c56940>"
      ]
     },
     "metadata": {},
     "output_type": "display_data"
    }
   ],
   "source": [
    "### We then perform histogram equalization, which improves the contrast in the images:\n",
    "X_train = np.array([cv2.equalizeHist(img) for img in X_train])\n",
    "X_validation = np.array([cv2.equalizeHist(img) for img in X_validation])\n",
    "X_test = np.array([cv2.equalizeHist(img) for img in X_test])\n",
    "\n",
    "X_train = np.array([np.reshape(img,(32,32,1)) for img in X_train])\n",
    "X_validation = np.array([np.reshape(img,(32,32,1)) for img in X_validation])\n",
    "X_test = np.array([np.reshape(img,(32,32,1)) for img in X_test])\n",
    "\n",
    "image = X_train[index].squeeze()\n",
    "plt.figure(figsize=(1,1))\n",
    "plt.imshow(image, cmap='gray')\n",
    "print(y_train[index])\n",
    "#print(X_train[index])"
   ]
  },
  {
   "cell_type": "code",
   "execution_count": 13,
   "metadata": {},
   "outputs": [
    {
     "name": "stdout",
     "output_type": "stream",
     "text": [
      "18\n"
     ]
    },
    {
     "data": {
      "image/png": "[encoded data removed]",
      "text/plain": [
       "<matplotlib.figure.Figure at 0x7fe14b218780>"
      ]
     },
     "metadata": {},
     "output_type": "display_data"
    }
   ],
   "source": [
    "### Finally we normalize our data, image by image.\n",
    "X_train = np.array([(img / 255.).astype(np.float32) for img in X_train])\n",
    "X_validation = np.array([(img / 255.).astype(np.float32) for img in X_validation])\n",
    "X_test = np.array([(img / 255.).astype(np.float32) for img in X_test])\n",
    "\n",
    "image = X_train[index].squeeze()\n",
    "plt.figure(figsize=(1,1))\n",
    "plt.imshow(image, cmap='gray')\n",
    "print(y_train[index])\n",
    "#print(X_train[index])"
   ]
  },
  {
   "cell_type": "markdown",
   "metadata": {},
   "source": [
    "### Model Architecture"
   ]
  },
  {
   "cell_type": "code",
   "execution_count": 14,
   "metadata": {
    "collapsed": true
   },
   "outputs": [],
   "source": [
    "# We pick the number of Epochs and the Batch size. We have a small batch size because we will apply data augmentation\n",
    "# at the batch level, and thus we are using BATCH_SIZE times 6 data points.\n",
    "\n",
    "import tensorflow as tf\n",
    "\n",
    "EPOCHS = 15\n",
    "BATCH_SIZE = 64\n",
    "MIN_ACC = 0.0\n"
   ]
  },
  {
   "cell_type": "code",
   "execution_count": 15,
   "metadata": {
    "collapsed": true
   },
   "outputs": [],
   "source": [
    "# The architecture of our network resembles that of the Sermanet paper. The main idea\n",
    "# is that the output of each convolution is later fed to a single fully connected layer\n",
    "# with the idea that the outputs of different convolutions capture different features\n",
    "\n",
    "# We are also using selu(x) as activation. This function induces self normalizing to the network.\n",
    "\n",
    "from tensorflow.contrib.layers import flatten\n",
    "\n",
    "keep_prob_ = tf.placeholder(tf.float32, name = \"keep_prob\")\n",
    "rate_ = tf.placeholder(tf.float32, name = \"rate\")\n",
    "layers = {}\n",
    "\n",
    "def selu(x):\n",
    "    alpha = 1.67\n",
    "    scale = 1.05\n",
    "    return scale*tf.where(x>=0, x, alpha*tf.nn.elu(x))\n",
    "\n",
    "def LeNet(x):    \n",
    "    \n",
    "    mu = 0\n",
    "    sigma = 0.1\n",
    "    \n",
    "    # Layer 1 Convolution\n",
    "    conv1_W = tf.Variable(tf.truncated_normal(shape=(5, 5, 1, 16), mean = mu, stddev = sigma))\n",
    "    conv1_b = tf.Variable(tf.zeros(16))\n",
    "    conv1 = tf.nn.conv2d(x, conv1_W, strides=[1, 1, 1, 1], padding='VALID') + conv1_b\n",
    "    conv1 = selu(conv1)    \n",
    "    pool1 = tf.nn.max_pool(conv1, ksize=[1, 2, 2, 1], strides=[1, 2, 2, 1], padding='VALID')\n",
    "    pool1 = tf.nn.dropout(conv1,keep_prob_*.95)\n",
    "\n",
    "    # Layer 2 Convolution\n",
    "    conv2_W = tf.Variable(tf.truncated_normal(shape=(5, 5, 16, 32), mean = mu, stddev = sigma))\n",
    "    conv2_b = tf.Variable(tf.zeros(32))\n",
    "    conv2 = tf.nn.conv2d(pool1, conv2_W, strides=[1, 1, 1, 1], padding='VALID') + conv2_b    \n",
    "    conv2 = selu(conv2)\n",
    "    pool2 = tf.nn.max_pool(conv2, ksize=[1, 2, 2, 1], strides=[1, 2, 2, 1], padding='VALID')\n",
    "    pool2 = tf.nn.dropout(pool2,keep_prob_*.9)\n",
    "    \n",
    "    # Layer 3 Convolution\n",
    "    conv3_W = tf.Variable(tf.truncated_normal(shape=(5, 5, 32, 32), mean = mu, stddev = sigma))\n",
    "    conv3_b = tf.Variable(tf.zeros(32))\n",
    "    conv3 = tf.nn.conv2d(pool2, conv3_W, strides=[1, 1, 1, 1], padding='VALID') + conv3_b    \n",
    "    conv3 = selu(conv3)\n",
    "    pool3 = tf.nn.max_pool(conv3, ksize=[1, 2, 2, 1], strides=[1, 2, 2, 1], padding='VALID')\n",
    "    pool3 = tf.nn.dropout(pool3,keep_prob_*.85)              \n",
    "    \n",
    "    # Repool layers 1 and 2\n",
    "    \n",
    "    pool1 = tf.nn.max_pool(pool1, ksize=[1, 2, 2, 1], strides=[1, 2, 2, 1], padding='VALID')\n",
    "    pool2 = tf.nn.max_pool(pool2, ksize=[1, 2, 2, 1], strides=[1, 2, 2, 1], padding='VALID')      \n",
    "    \n",
    "    # Flatten    \n",
    "    fc0   = tf.concat(1,[flatten(pool3), flatten(pool2), flatten(pool1)])\n",
    "   \n",
    "    fc1_W = tf.Variable(tf.truncated_normal(shape=(4800, 512), mean = mu, stddev = sigma))\n",
    "    fc1_b = tf.Variable(tf.zeros(512))\n",
    "    fc1 = tf.matmul(fc0, fc1_W) + fc1_b\n",
    "    fc1 = selu(fc1)\n",
    "    fc1 = tf.nn.dropout(fc1,keep_prob_*0.70)\n",
    "\n",
    "    # Layer 4 Fully Connected\n",
    "    fc2_W  = tf.Variable(tf.truncated_normal(shape=(512, 256), mean = mu, stddev = sigma))\n",
    "    fc2_b  = tf.Variable(tf.zeros(256))\n",
    "    fc2 = tf.matmul(fc1, fc2_W) + fc2_b\n",
    "    fc2 = selu(fc2)\n",
    "    fc2 = tf.nn.dropout(fc2,keep_prob_)\n",
    "\n",
    "    # Layer 5 Fully Connected.\n",
    "    fc3_W  = tf.Variable(tf.truncated_normal(shape=(256, 43), mean = mu, stddev = sigma))\n",
    "    fc3_b  = tf.Variable(tf.zeros(43))\n",
    "    logits = tf.matmul(fc2, fc3_W) + fc3_b\n",
    "    \n",
    "    global layers\n",
    "    \n",
    "    layers = {\n",
    "        \"input\": x,\n",
    "        \"conv1\": conv1,\n",
    "        \"pool1\": pool1,\n",
    "        \"conv2\": conv2,\n",
    "        \"pool2\": pool2,\n",
    "        \"conv3\": conv3,\n",
    "        \"pool3\": pool3,\n",
    "        \"fc0\": fc0,\n",
    "        \"fc1\": fc1,\n",
    "        \"fc2\": fc2,        \n",
    "        \"logits\": logits\n",
    "    }\n",
    "    \n",
    "    \n",
    "    return logits"
   ]
  },
  {
   "cell_type": "code",
   "execution_count": 16,
   "metadata": {
    "collapsed": true
   },
   "outputs": [],
   "source": [
    "x = tf.placeholder(tf.float32, (None, 32, 32, 1))\n",
    "y = tf.placeholder(tf.int32, (None))\n",
    "one_hot_y = tf.one_hot(y, 43)"
   ]
  },
  {
   "cell_type": "code",
   "execution_count": 17,
   "metadata": {
    "collapsed": true
   },
   "outputs": [],
   "source": [
    "### It will be useful to define this function for evaluating our NN later on\n",
    "\n",
    "from sklearn.metrics import precision_recall_fscore_support as score\n",
    "import pandas\n",
    "def get_precision_recall(y_data, y_predicted):\n",
    "    precision, recall, fscore, support = score(y_data, y_predicted)\n",
    "    pr = pandas.DataFrame({\n",
    "        \"name\": signnames,\n",
    "        \"precision\": precision,\n",
    "        \"recall\": recall,        \n",
    "    })\n",
    "    print(pr)"
   ]
  },
  {
   "cell_type": "markdown",
   "metadata": {},
   "source": [
    "### Train, Validate and Test the Model"
   ]
  },
  {
   "cell_type": "markdown",
   "metadata": {},
   "source": [
    "A validation set can be used to assess how well the model is performing. A low accuracy on the training and validation\n",
    "sets imply underfitting. A high accuracy on the training set but low accuracy on the validation set implies overfitting."
   ]
  },
  {
   "cell_type": "code",
   "execution_count": 18,
   "metadata": {},
   "outputs": [],
   "source": [
    "### Train your model here.\n",
    "\n",
    "\n",
    "logits = LeNet(x)\n",
    "cross_entropy = tf.nn.softmax_cross_entropy_with_logits(labels=one_hot_y, logits=logits)\n",
    "loss_operation = tf.reduce_mean(cross_entropy)\n",
    "optimizer = tf.train.AdamOptimizer(learning_rate = rate_)\n",
    "training_operation = optimizer.minimize(loss_operation)"
   ]
  },
  {
   "cell_type": "code",
   "execution_count": 19,
   "metadata": {
    "collapsed": true
   },
   "outputs": [],
   "source": [
    "correct_prediction = tf.equal(tf.argmax(logits, 1), tf.argmax(one_hot_y, 1))\n",
    "accuracy_operation = tf.reduce_mean(tf.cast(correct_prediction, tf.float32))\n",
    "saver = tf.train.Saver()\n",
    "\n",
    "def evaluate(X_data, y_data):\n",
    "    num_examples = len(X_data)\n",
    "    total_accuracy = 0\n",
    "    sess = tf.get_default_session()\n",
    "    for offset in range(0, num_examples, BATCH_SIZE):\n",
    "        batch_x, batch_y = X_data[offset:offset+BATCH_SIZE], y_data[offset:offset+BATCH_SIZE]\n",
    "        accuracy = sess.run(accuracy_operation, feed_dict={x: batch_x, y: batch_y, keep_prob_: 1.0, rate_:0.001})\n",
    "        total_accuracy += (accuracy * len(batch_x))\n",
    "    return total_accuracy / num_examples"
   ]
  },
  {
   "cell_type": "code",
   "execution_count": 20,
   "metadata": {},
   "outputs": [
    {
     "name": "stdout",
     "output_type": "stream",
     "text": [
      "Training...\n",
      "\n",
      "EPOCH 1 ...\n",
      "Validation Accuracy = 0.614\n",
      "Train Accuracy = 0.640\n",
      "\n",
      "Model saved\n",
      "EPOCH 2 ...\n",
      "Validation Accuracy = 0.811\n",
      "Train Accuracy = 0.855\n",
      "\n",
      "Model saved\n",
      "EPOCH 3 ...\n",
      "Validation Accuracy = 0.875\n",
      "Train Accuracy = 0.918\n",
      "\n",
      "Model saved\n",
      "EPOCH 4 ...\n",
      "Validation Accuracy = 0.907\n",
      "Train Accuracy = 0.949\n",
      "\n",
      "Model saved\n",
      "EPOCH 5 ...\n",
      "Validation Accuracy = 0.930\n",
      "Train Accuracy = 0.963\n",
      "\n",
      "Model saved\n",
      "EPOCH 6 ...\n",
      "Validation Accuracy = 0.943\n",
      "Train Accuracy = 0.976\n",
      "\n",
      "Model saved\n",
      "EPOCH 7 ...\n",
      "Validation Accuracy = 0.946\n",
      "Train Accuracy = 0.982\n",
      "\n",
      "Model saved\n",
      "EPOCH 8 ...\n",
      "Validation Accuracy = 0.956\n",
      "Train Accuracy = 0.987\n",
      "\n",
      "Model saved\n",
      "EPOCH 9 ...\n",
      "Validation Accuracy = 0.953\n",
      "Train Accuracy = 0.988\n",
      "\n",
      "Model saved\n",
      "EPOCH 10 ...\n",
      "Validation Accuracy = 0.962\n",
      "Train Accuracy = 0.991\n",
      "\n",
      "Model saved\n",
      "EPOCH 11 ...\n",
      "Validation Accuracy = 0.961\n",
      "Train Accuracy = 0.993\n",
      "\n",
      "Model saved\n",
      "EPOCH 12 ...\n",
      "Validation Accuracy = 0.961\n",
      "Train Accuracy = 0.994\n",
      "\n",
      "Model saved\n",
      "EPOCH 13 ...\n",
      "Validation Accuracy = 0.968\n",
      "Train Accuracy = 0.995\n",
      "\n",
      "Model saved\n",
      "EPOCH 14 ...\n",
      "Validation Accuracy = 0.971\n",
      "Train Accuracy = 0.997\n",
      "\n",
      "Model saved\n",
      "EPOCH 15 ...\n",
      "Validation Accuracy = 0.969\n",
      "Train Accuracy = 0.996\n",
      "\n"
     ]
    }
   ],
   "source": [
    "\n",
    "with tf.Session() as sess:\n",
    "    sess.run(tf.global_variables_initializer())\n",
    "    num_examples = len(X_train)\n",
    "    \n",
    "    print(\"Training...\")\n",
    "    print()\n",
    "    for i in range(EPOCHS):\n",
    "        X_train, y_train = shuffle(X_train, y_train)\n",
    "        for offset in range(0, num_examples, BATCH_SIZE):\n",
    "            end = offset + BATCH_SIZE\n",
    "            batch_x, batch_y = X_train[offset:end], y_train[offset:end]\n",
    "            batch_x, batch_y = build_augmented_dataset(batch_x, batch_y)\n",
    "            sess.run(training_operation, feed_dict={x: batch_x, y: batch_y, keep_prob_: 0.8, rate_:0.0003})\n",
    "            \n",
    "        validation_accuracy = evaluate(X_validation, y_validation)\n",
    "        training_accuracy = evaluate(X_train, y_train)\n",
    "        \n",
    "        print(\"EPOCH {} ...\".format(i+1))\n",
    "        print(\"Validation Accuracy = {:.3f}\".format(validation_accuracy))\n",
    "        print(\"Train Accuracy = {:.3f}\".format(training_accuracy))\n",
    "        \n",
    "        if validation_accuracy > MIN_ACC:\n",
    "            saver.save(sess, './lenet')\n",
    "            print(\"Model saved\")\n",
    "            MIN_ACC = validation_accuracy\n",
    "        print()     \n",
    "    \n"
   ]
  },
  {
   "cell_type": "code",
   "execution_count": 21,
   "metadata": {},
   "outputs": [
    {
     "name": "stdout",
     "output_type": "stream",
     "text": [
      "Training...\n",
      "\n",
      "EPOCH 1 ...\n",
      "Validation Accuracy = 0.971\n",
      "Train Accuracy = 0.996\n",
      "\n",
      "EPOCH 2 ...\n",
      "Validation Accuracy = 0.970\n",
      "Train Accuracy = 0.996\n",
      "\n",
      "EPOCH 3 ...\n",
      "Validation Accuracy = 0.975\n",
      "Train Accuracy = 0.996\n",
      "\n",
      "EPOCH 4 ...\n",
      "Validation Accuracy = 0.971\n",
      "Train Accuracy = 0.997\n",
      "\n",
      "Model saved\n",
      "EPOCH 5 ...\n",
      "Validation Accuracy = 0.975\n",
      "Train Accuracy = 0.997\n",
      "\n",
      "Model saved\n",
      "EPOCH 6 ...\n",
      "Validation Accuracy = 0.976\n",
      "Train Accuracy = 0.998\n",
      "\n",
      "Model saved\n",
      "EPOCH 7 ...\n",
      "Validation Accuracy = 0.974\n",
      "Train Accuracy = 0.998\n",
      "\n",
      "Model saved\n",
      "EPOCH 8 ...\n",
      "Validation Accuracy = 0.978\n",
      "Train Accuracy = 0.998\n",
      "\n",
      "Model saved\n",
      "EPOCH 9 ...\n",
      "Validation Accuracy = 0.976\n",
      "Train Accuracy = 0.998\n",
      "\n",
      "Model saved\n",
      "EPOCH 10 ...\n",
      "Validation Accuracy = 0.978\n",
      "Train Accuracy = 0.999\n",
      "\n",
      "Model saved\n",
      "EPOCH 11 ...\n",
      "Validation Accuracy = 0.980\n",
      "Train Accuracy = 0.999\n",
      "\n",
      "EPOCH 12 ...\n",
      "Validation Accuracy = 0.976\n",
      "Train Accuracy = 0.999\n",
      "\n",
      "EPOCH 13 ...\n",
      "Validation Accuracy = 0.980\n",
      "Train Accuracy = 0.999\n",
      "\n",
      "Model saved\n",
      "EPOCH 14 ...\n",
      "Validation Accuracy = 0.978\n",
      "Train Accuracy = 0.999\n",
      "\n",
      "EPOCH 15 ...\n",
      "Validation Accuracy = 0.977\n",
      "Train Accuracy = 0.999\n",
      "\n",
      "Model saved\n"
     ]
    }
   ],
   "source": [
    "with tf.Session() as sess:\n",
    "    saver.restore(sess, tf.train.latest_checkpoint('.'))\n",
    "    num_examples = len(X_train)\n",
    "    \n",
    "    print(\"Training...\")\n",
    "    print()\n",
    "    for i in range(EPOCHS):\n",
    "        X_train, y_train = shuffle(X_train, y_train)\n",
    "        for offset in range(0, num_examples, BATCH_SIZE):\n",
    "            end = offset + BATCH_SIZE\n",
    "            batch_x, batch_y = X_train[offset:end], y_train[offset:end]\n",
    "            batch_x, batch_y = build_augmented_dataset(batch_x, batch_y)\n",
    "            sess.run(training_operation, feed_dict={x: batch_x, y: batch_y, keep_prob_: 0.7, rate_:0.0002})\n",
    "            \n",
    "        validation_accuracy = evaluate(X_validation, y_validation)\n",
    "        training_accuracy = evaluate(X_train, y_train)\n",
    "        print(\"EPOCH {} ...\".format(i+1))\n",
    "        print(\"Validation Accuracy = {:.3f}\".format(validation_accuracy))\n",
    "        print(\"Train Accuracy = {:.3f}\".format(training_accuracy))\n",
    "        \n",
    "        if validation_accuracy > MIN_ACC:\n",
    "            saver.save(sess, './lenet')\n",
    "            print(\"Model saved\")\n",
    "            MIN_ACC = validation_accuracy\n",
    "        print()         \n"
   ]
  },
  {
   "cell_type": "code",
   "execution_count": 22,
   "metadata": {},
   "outputs": [
    {
     "name": "stdout",
     "output_type": "stream",
     "text": [
      "Training...\n",
      "\n",
      "EPOCH 1 ...\n",
      "Validation Accuracy = 0.978\n",
      "Train Accuracy = 0.999\n",
      "\n",
      "Model saved\n",
      "EPOCH 2 ...\n",
      "Validation Accuracy = 0.980\n",
      "Train Accuracy = 0.999\n",
      "\n",
      "Model saved\n",
      "EPOCH 3 ...\n",
      "Validation Accuracy = 0.980\n",
      "Train Accuracy = 0.999\n",
      "\n",
      "EPOCH 4 ...\n",
      "Validation Accuracy = 0.980\n",
      "Train Accuracy = 0.999\n",
      "\n",
      "EPOCH 5 ...\n",
      "Validation Accuracy = 0.981\n",
      "Train Accuracy = 0.999\n",
      "\n",
      "EPOCH 6 ...\n",
      "Validation Accuracy = 0.980\n",
      "Train Accuracy = 0.999\n",
      "\n",
      "EPOCH 7 ...\n",
      "Validation Accuracy = 0.982\n",
      "Train Accuracy = 0.999\n",
      "\n",
      "EPOCH 8 ...\n",
      "Validation Accuracy = 0.979\n",
      "Train Accuracy = 0.999\n",
      "\n",
      "EPOCH 9 ...\n",
      "Validation Accuracy = 0.979\n",
      "Train Accuracy = 0.999\n",
      "\n",
      "EPOCH 10 ...\n",
      "Validation Accuracy = 0.980\n",
      "Train Accuracy = 0.999\n",
      "\n",
      "EPOCH 11 ...\n",
      "Validation Accuracy = 0.980\n",
      "Train Accuracy = 0.999\n",
      "\n",
      "Model saved\n",
      "EPOCH 12 ...\n",
      "Validation Accuracy = 0.979\n",
      "Train Accuracy = 0.999\n",
      "\n",
      "Model saved\n",
      "EPOCH 13 ...\n",
      "Validation Accuracy = 0.980\n",
      "Train Accuracy = 0.999\n",
      "\n",
      "EPOCH 14 ...\n",
      "Validation Accuracy = 0.980\n",
      "Train Accuracy = 0.999\n",
      "\n",
      "Model saved\n",
      "EPOCH 15 ...\n",
      "Validation Accuracy = 0.981\n",
      "Train Accuracy = 0.999\n",
      "\n"
     ]
    }
   ],
   "source": [
    "with tf.Session() as sess:\n",
    "    saver.restore(sess, tf.train.latest_checkpoint('.'))\n",
    "    num_examples = len(X_train)\n",
    "    \n",
    "    print(\"Training...\")\n",
    "    print()\n",
    "    for i in range(EPOCHS):\n",
    "        X_train, y_train = shuffle(X_train, y_train)\n",
    "        for offset in range(0, num_examples, BATCH_SIZE):\n",
    "            end = offset + BATCH_SIZE\n",
    "            batch_x, batch_y = X_train[offset:end], y_train[offset:end]\n",
    "            batch_x, batch_y = build_augmented_dataset(batch_x, batch_y)\n",
    "            sess.run(training_operation, feed_dict={x: batch_x, y: batch_y, keep_prob_: 0.6, rate_:0.0001})\n",
    "            \n",
    "        validation_accuracy = evaluate(X_validation, y_validation)\n",
    "        training_accuracy = evaluate(X_train, y_train)\n",
    "        print(\"EPOCH {} ...\".format(i+1))\n",
    "        print(\"Validation Accuracy = {:.3f}\".format(validation_accuracy))\n",
    "        print(\"Train Accuracy = {:.3f}\".format(training_accuracy))\n",
    "        \n",
    "        if validation_accuracy > MIN_ACC:\n",
    "            saver.save(sess, './lenet')\n",
    "            print(\"Model saved\")\n",
    "            MIN_ACC = validation_accuracy\n",
    "        print()   "
   ]
  },
  {
   "cell_type": "code",
   "execution_count": 23,
   "metadata": {},
   "outputs": [
    {
     "name": "stdout",
     "output_type": "stream",
     "text": [
      "Training...\n",
      "\n"
     ]
    },
    {
     "ename": "KeyboardInterrupt",
     "evalue": "",
     "output_type": "error",
     "traceback": [
      "\u001b[0;31m---------------------------------------------------------------------------\u001b[0m",
      "\u001b[0;31mKeyboardInterrupt\u001b[0m                         Traceback (most recent call last)",
      "\u001b[0;32m<ipython-input-23-c7a9db5a53fe>\u001b[0m in \u001b[0;36m<module>\u001b[0;34m()\u001b[0m\n\u001b[1;32m     11\u001b[0m             \u001b[0mbatch_x\u001b[0m\u001b[0;34m,\u001b[0m \u001b[0mbatch_y\u001b[0m \u001b[0;34m=\u001b[0m \u001b[0mX_train\u001b[0m\u001b[0;34m[\u001b[0m\u001b[0moffset\u001b[0m\u001b[0;34m:\u001b[0m\u001b[0mend\u001b[0m\u001b[0;34m]\u001b[0m\u001b[0;34m,\u001b[0m \u001b[0my_train\u001b[0m\u001b[0;34m[\u001b[0m\u001b[0moffset\u001b[0m\u001b[0;34m:\u001b[0m\u001b[0mend\u001b[0m\u001b[0;34m]\u001b[0m\u001b[0;34m\u001b[0m\u001b[0m\n\u001b[1;32m     12\u001b[0m             \u001b[0mbatch_x\u001b[0m\u001b[0;34m,\u001b[0m \u001b[0mbatch_y\u001b[0m \u001b[0;34m=\u001b[0m \u001b[0mbuild_augmented_dataset\u001b[0m\u001b[0;34m(\u001b[0m\u001b[0mbatch_x\u001b[0m\u001b[0;34m,\u001b[0m \u001b[0mbatch_y\u001b[0m\u001b[0;34m)\u001b[0m\u001b[0;34m\u001b[0m\u001b[0m\n\u001b[0;32m---> 13\u001b[0;31m             \u001b[0msess\u001b[0m\u001b[0;34m.\u001b[0m\u001b[0mrun\u001b[0m\u001b[0;34m(\u001b[0m\u001b[0mtraining_operation\u001b[0m\u001b[0;34m,\u001b[0m \u001b[0mfeed_dict\u001b[0m\u001b[0;34m=\u001b[0m\u001b[0;34m{\u001b[0m\u001b[0mx\u001b[0m\u001b[0;34m:\u001b[0m \u001b[0mbatch_x\u001b[0m\u001b[0;34m,\u001b[0m \u001b[0my\u001b[0m\u001b[0;34m:\u001b[0m \u001b[0mbatch_y\u001b[0m\u001b[0;34m,\u001b[0m \u001b[0mkeep_prob_\u001b[0m\u001b[0;34m:\u001b[0m \u001b[0;36m0.5\u001b[0m\u001b[0;34m,\u001b[0m \u001b[0mrate_\u001b[0m\u001b[0;34m:\u001b[0m\u001b[0;36m0.0001\u001b[0m\u001b[0;34m}\u001b[0m\u001b[0;34m)\u001b[0m\u001b[0;34m\u001b[0m\u001b[0m\n\u001b[0m\u001b[1;32m     14\u001b[0m \u001b[0;34m\u001b[0m\u001b[0m\n\u001b[1;32m     15\u001b[0m         \u001b[0mvalidation_accuracy\u001b[0m \u001b[0;34m=\u001b[0m \u001b[0mevaluate\u001b[0m\u001b[0;34m(\u001b[0m\u001b[0mX_validation\u001b[0m\u001b[0;34m,\u001b[0m \u001b[0my_validation\u001b[0m\u001b[0;34m)\u001b[0m\u001b[0;34m\u001b[0m\u001b[0m\n",
      "\u001b[0;32m/home/carnd/anaconda3/envs/carnd-term1/lib/python3.5/site-packages/tensorflow/python/client/session.py\u001b[0m in \u001b[0;36mrun\u001b[0;34m(self, fetches, feed_dict, options, run_metadata)\u001b[0m\n\u001b[1;32m    764\u001b[0m     \u001b[0;32mtry\u001b[0m\u001b[0;34m:\u001b[0m\u001b[0;34m\u001b[0m\u001b[0m\n\u001b[1;32m    765\u001b[0m       result = self._run(None, fetches, feed_dict, options_ptr,\n\u001b[0;32m--> 766\u001b[0;31m                          run_metadata_ptr)\n\u001b[0m\u001b[1;32m    767\u001b[0m       \u001b[0;32mif\u001b[0m \u001b[0mrun_metadata\u001b[0m\u001b[0;34m:\u001b[0m\u001b[0;34m\u001b[0m\u001b[0m\n\u001b[1;32m    768\u001b[0m         \u001b[0mproto_data\u001b[0m \u001b[0;34m=\u001b[0m \u001b[0mtf_session\u001b[0m\u001b[0;34m.\u001b[0m\u001b[0mTF_GetBuffer\u001b[0m\u001b[0;34m(\u001b[0m\u001b[0mrun_metadata_ptr\u001b[0m\u001b[0;34m)\u001b[0m\u001b[0;34m\u001b[0m\u001b[0m\n",
      "\u001b[0;32m/home/carnd/anaconda3/envs/carnd-term1/lib/python3.5/site-packages/tensorflow/python/client/session.py\u001b[0m in \u001b[0;36m_run\u001b[0;34m(self, handle, fetches, feed_dict, options, run_metadata)\u001b[0m\n\u001b[1;32m    962\u001b[0m     \u001b[0;32mif\u001b[0m \u001b[0mfinal_fetches\u001b[0m \u001b[0;32mor\u001b[0m \u001b[0mfinal_targets\u001b[0m\u001b[0;34m:\u001b[0m\u001b[0;34m\u001b[0m\u001b[0m\n\u001b[1;32m    963\u001b[0m       results = self._do_run(handle, final_targets, final_fetches,\n\u001b[0;32m--> 964\u001b[0;31m                              feed_dict_string, options, run_metadata)\n\u001b[0m\u001b[1;32m    965\u001b[0m     \u001b[0;32melse\u001b[0m\u001b[0;34m:\u001b[0m\u001b[0;34m\u001b[0m\u001b[0m\n\u001b[1;32m    966\u001b[0m       \u001b[0mresults\u001b[0m \u001b[0;34m=\u001b[0m \u001b[0;34m[\u001b[0m\u001b[0;34m]\u001b[0m\u001b[0;34m\u001b[0m\u001b[0m\n",
      "\u001b[0;32m/home/carnd/anaconda3/envs/carnd-term1/lib/python3.5/site-packages/tensorflow/python/client/session.py\u001b[0m in \u001b[0;36m_do_run\u001b[0;34m(self, handle, target_list, fetch_list, feed_dict, options, run_metadata)\u001b[0m\n\u001b[1;32m   1012\u001b[0m     \u001b[0;32mif\u001b[0m \u001b[0mhandle\u001b[0m \u001b[0;32mis\u001b[0m \u001b[0;32mNone\u001b[0m\u001b[0;34m:\u001b[0m\u001b[0;34m\u001b[0m\u001b[0m\n\u001b[1;32m   1013\u001b[0m       return self._do_call(_run_fn, self._session, feed_dict, fetch_list,\n\u001b[0;32m-> 1014\u001b[0;31m                            target_list, options, run_metadata)\n\u001b[0m\u001b[1;32m   1015\u001b[0m     \u001b[0;32melse\u001b[0m\u001b[0;34m:\u001b[0m\u001b[0;34m\u001b[0m\u001b[0m\n\u001b[1;32m   1016\u001b[0m       return self._do_call(_prun_fn, self._session, handle, feed_dict,\n",
      "\u001b[0;32m/home/carnd/anaconda3/envs/carnd-term1/lib/python3.5/site-packages/tensorflow/python/client/session.py\u001b[0m in \u001b[0;36m_do_call\u001b[0;34m(self, fn, *args)\u001b[0m\n\u001b[1;32m   1019\u001b[0m   \u001b[0;32mdef\u001b[0m \u001b[0m_do_call\u001b[0m\u001b[0;34m(\u001b[0m\u001b[0mself\u001b[0m\u001b[0;34m,\u001b[0m \u001b[0mfn\u001b[0m\u001b[0;34m,\u001b[0m \u001b[0;34m*\u001b[0m\u001b[0margs\u001b[0m\u001b[0;34m)\u001b[0m\u001b[0;34m:\u001b[0m\u001b[0;34m\u001b[0m\u001b[0m\n\u001b[1;32m   1020\u001b[0m     \u001b[0;32mtry\u001b[0m\u001b[0;34m:\u001b[0m\u001b[0;34m\u001b[0m\u001b[0m\n\u001b[0;32m-> 1021\u001b[0;31m       \u001b[0;32mreturn\u001b[0m \u001b[0mfn\u001b[0m\u001b[0;34m(\u001b[0m\u001b[0;34m*\u001b[0m\u001b[0margs\u001b[0m\u001b[0;34m)\u001b[0m\u001b[0;34m\u001b[0m\u001b[0m\n\u001b[0m\u001b[1;32m   1022\u001b[0m     \u001b[0;32mexcept\u001b[0m \u001b[0merrors\u001b[0m\u001b[0;34m.\u001b[0m\u001b[0mOpError\u001b[0m \u001b[0;32mas\u001b[0m \u001b[0me\u001b[0m\u001b[0;34m:\u001b[0m\u001b[0;34m\u001b[0m\u001b[0m\n\u001b[1;32m   1023\u001b[0m       \u001b[0mmessage\u001b[0m \u001b[0;34m=\u001b[0m \u001b[0mcompat\u001b[0m\u001b[0;34m.\u001b[0m\u001b[0mas_text\u001b[0m\u001b[0;34m(\u001b[0m\u001b[0me\u001b[0m\u001b[0;34m.\u001b[0m\u001b[0mmessage\u001b[0m\u001b[0;34m)\u001b[0m\u001b[0;34m\u001b[0m\u001b[0m\n",
      "\u001b[0;32m/home/carnd/anaconda3/envs/carnd-term1/lib/python3.5/site-packages/tensorflow/python/client/session.py\u001b[0m in \u001b[0;36m_run_fn\u001b[0;34m(session, feed_dict, fetch_list, target_list, options, run_metadata)\u001b[0m\n\u001b[1;32m   1001\u001b[0m         return tf_session.TF_Run(session, options,\n\u001b[1;32m   1002\u001b[0m                                  \u001b[0mfeed_dict\u001b[0m\u001b[0;34m,\u001b[0m \u001b[0mfetch_list\u001b[0m\u001b[0;34m,\u001b[0m \u001b[0mtarget_list\u001b[0m\u001b[0;34m,\u001b[0m\u001b[0;34m\u001b[0m\u001b[0m\n\u001b[0;32m-> 1003\u001b[0;31m                                  status, run_metadata)\n\u001b[0m\u001b[1;32m   1004\u001b[0m \u001b[0;34m\u001b[0m\u001b[0m\n\u001b[1;32m   1005\u001b[0m     \u001b[0;32mdef\u001b[0m \u001b[0m_prun_fn\u001b[0m\u001b[0;34m(\u001b[0m\u001b[0msession\u001b[0m\u001b[0;34m,\u001b[0m \u001b[0mhandle\u001b[0m\u001b[0;34m,\u001b[0m \u001b[0mfeed_dict\u001b[0m\u001b[0;34m,\u001b[0m \u001b[0mfetch_list\u001b[0m\u001b[0;34m)\u001b[0m\u001b[0;34m:\u001b[0m\u001b[0;34m\u001b[0m\u001b[0m\n",
      "\u001b[0;31mKeyboardInterrupt\u001b[0m: "
     ]
    }
   ],
   "source": [
    "with tf.Session() as sess:\n",
    "    saver.restore(sess, tf.train.latest_checkpoint('.'))\n",
    "    num_examples = len(X_train)\n",
    "    \n",
    "    print(\"Training...\")\n",
    "    print()\n",
    "    for i in range(EPOCHS):\n",
    "        X_train, y_train = shuffle(X_train, y_train)\n",
    "        for offset in range(0, num_examples, BATCH_SIZE):\n",
    "            end = offset + BATCH_SIZE\n",
    "            batch_x, batch_y = X_train[offset:end], y_train[offset:end]\n",
    "            batch_x, batch_y = build_augmented_dataset(batch_x, batch_y)\n",
    "            sess.run(training_operation, feed_dict={x: batch_x, y: batch_y, keep_prob_: 0.5, rate_:0.0001})\n",
    "            \n",
    "        validation_accuracy = evaluate(X_validation, y_validation)\n",
    "        training_accuracy = evaluate(X_train, y_train)\n",
    "        print(\"EPOCH {} ...\".format(i+1))\n",
    "        print(\"Validation Accuracy = {:.3f}\".format(validation_accuracy))\n",
    "        print(\"Train Accuracy = {:.3f}\".format(training_accuracy))\n",
    "        \n",
    "        if validation_accuracy > MIN_ACC:\n",
    "            saver.save(sess, './lenet')\n",
    "            print(\"Model saved\")\n",
    "            MIN_ACC = validation_accuracy\n",
    "        print()    "
   ]
  },
  {
   "cell_type": "code",
   "execution_count": null,
   "metadata": {
    "collapsed": true
   },
   "outputs": [],
   "source": [
    "with tf.Session() as sess:\n",
    "    saver.restore(sess, tf.train.latest_checkpoint('.'))\n",
    "    validation_accuracy = evaluate(X_test, y_test)\n",
    "    print(\"Test Accuracy = {:.3f}\".format(validation_accuracy))\n",
    "    print(\" \")\n",
    "    data_logits = sess.run(logits, feed_dict={x: X_test, keep_prob_: 1.0})\n",
    "    y_predicted = np.array([ l.argmax() for l in data_logits])    \n",
    "    get_precision_recall(y_test, y_predicted)"
   ]
  },
  {
   "cell_type": "markdown",
   "metadata": {},
   "source": [
    "---\n",
    "\n",
    "## Step 3: Test a Model on New Images\n",
    "\n",
    "We downloaded 10 more German traffic signs images from the web. The idea is to use them to further test our classifier. In order to make them usable, we sometimes cropped the images to get a similar result to the one we have in our dataset.\n",
    "Below are the images we will use, resized to 32 by 32 bits, just like the ones we have been working on."
   ]
  },
  {
   "cell_type": "markdown",
   "metadata": {},
   "source": [
    "### Load and Output the Images"
   ]
  },
  {
   "cell_type": "code",
   "execution_count": null,
   "metadata": {
    "collapsed": true
   },
   "outputs": [],
   "source": [
    "### Loading and plotting the new images\n",
    "\n",
    "imgs = []\n",
    "\n",
    "for i in range(10):\n",
    "    filename = \"examples/newImage{}.jpg\".format(i)\n",
    "    img = cv2.imread(filename)    \n",
    "    img = cv2.cvtColor(img, cv2.COLOR_BGR2RGB)\n",
    "    resized = cv2.resize(img, (32,32), interpolation=cv2.INTER_AREA)\n",
    "    imgs.append(resized)\n",
    "\n",
    "X_challenge = np.stack(imgs)\n",
    "\n",
    "fig = plt.figure(figsize = (10, 1))\n",
    "fig.subplots_adjust(left = 0, right = 1, bottom = 0, top = 1, hspace = 0.05, wspace = 0.05)\n",
    "\n",
    "for i in range(len(X_challenge)):\n",
    "    axis = fig.add_subplot(1, 10, i + 1, xticks=[], yticks=[])\n",
    "    axis.imshow(X_challenge[i])\n",
    "plt.show()"
   ]
  },
  {
   "cell_type": "markdown",
   "metadata": {},
   "source": [
    "### Predict the Sign Type for Each Image"
   ]
  },
  {
   "cell_type": "code",
   "execution_count": null,
   "metadata": {
    "collapsed": true
   },
   "outputs": [],
   "source": [
    "### We begin by preprocessing the new images just like we did for the original data set\n",
    "\n",
    "X_challenge = np.array([grayscale(img) for img in imgs])\n",
    "X_challenge = np.array([cv2.equalizeHist(img) for img in X_challenge])\n",
    "X_challenge = np.array([np.reshape(img,(32,32,1)) for img in X_challenge])\n",
    "X_challenge = np.array([(img / 255.).astype(np.float32) for img in X_challenge])\n",
    "\n",
    "fig = plt.figure(figsize = (10, 1))\n",
    "fig.subplots_adjust(left = 0, right = 1, bottom = 0, top = 1, hspace = 0.05, wspace = 0.05)\n",
    "\n",
    "for i in range(len(X_challenge)):\n",
    "    axis = fig.add_subplot(1, 10, i + 1, xticks=[], yticks=[])    \n",
    "    axis.imshow(np.reshape(X_challenge[i],(32,32)), cmap='gray')\n",
    "plt.show()\n"
   ]
  },
  {
   "cell_type": "code",
   "execution_count": null,
   "metadata": {
    "collapsed": true
   },
   "outputs": [],
   "source": [
    "# We now run our classifier\n",
    "\n",
    "with tf.Session() as sess:\n",
    "    # Restore session    \n",
    "    saver.restore(sess, tf.train.latest_checkpoint('.'))\n",
    "    print(\"Session restored.\")\n",
    "    data_logits = sess.run(logits, feed_dict={x: X_challenge, keep_prob_: 1.0})\n",
    "    y_predicted = np.array([ l.argmax() for l in data_logits])\n",
    "    print(signnames[y_predicted])"
   ]
  },
  {
   "cell_type": "markdown",
   "metadata": {},
   "source": [
    "### Analyze Performance"
   ]
  },
  {
   "cell_type": "code",
   "execution_count": null,
   "metadata": {
    "collapsed": true
   },
   "outputs": [],
   "source": [
    "### Calculate the accuracy for these 5 new images. \n",
    "### For example, if the model predicted 1 out of 5 signs correctly, it's 20% accurate on these new images.\n",
    "\n",
    "y_challenge = np.array([12, 8, 14, 17, 39, 41, 40, 11, 21, 4])\n",
    "\n",
    "with tf.Session() as sess:\n",
    "    saver.restore(sess, tf.train.latest_checkpoint('.'))\n",
    "    print(\"Session restored.\")\n",
    "    acc = sess.run(accuracy_operation, feed_dict={x: X_challenge, y: y_challenge, keep_prob_: 1.0})\n",
    "    print(\"Accuracy:\", acc)"
   ]
  },
  {
   "cell_type": "markdown",
   "metadata": {},
   "source": [
    "### Output Top 5 Softmax Probabilities For Each Image Found on the Web"
   ]
  },
  {
   "cell_type": "markdown",
   "metadata": {},
   "source": [
    "For each of the new images, print out the model's softmax probabilities to show the **certainty** of the model's predictions (limit the output to the top 5 probabilities for each image). [`tf.nn.top_k`](https://www.tensorflow.org/versions/r0.12/api_docs/python/nn.html#top_k) could prove helpful here. \n"
   ]
  },
  {
   "cell_type": "code",
   "execution_count": null,
   "metadata": {
    "collapsed": true
   },
   "outputs": [],
   "source": [
    "def softmax(x):\n",
    "    e_x = np.exp(x - np.max(x))\n",
    "    return e_x / e_x.sum()\n",
    "\n",
    "with tf.Session() as sess:\n",
    "    saver.restore(sess, tf.train.latest_checkpoint('.'))\n",
    "    print(\"\")\n",
    "    logit_values = sess.run(logits, feed_dict={x: X_challenge, y: y_challenge, keep_prob_: 1.0})\n",
    "    top_args = np.argsort(logit_values, axis=1)[:,::-1][:,:5]\n",
    "    top_args_logits = np.sort(logit_values, axis=1)[:,::-1][:,:5]\n",
    "    top_args_logits = np.around(top_args_logits, decimals=3)\n",
    "    top_args_probs = [softmax(v) for v in top_args_logits]\n",
    "    print(top_args)    \n",
    "    print(top_args_probs)\n",
    "    "
   ]
  },
  {
   "cell_type": "markdown",
   "metadata": {},
   "source": [
    "---\n",
    "\n",
    "## Step 4 (Optional): Visualize the Neural Network's State with Test Images\n",
    "\n",
    " In this section we are just using the function provided to us to visualize the feature maps of our network. In this way, we can get some insight into what each layer of our classifier is focusing on, which allows us to get a better understanding of our model, and hopefully some clues about what makes it work and how can it be improved.\n"
   ]
  },
  {
   "cell_type": "code",
   "execution_count": null,
   "metadata": {
    "collapsed": true
   },
   "outputs": [],
   "source": [
    "### Visualize your network's feature maps here.\n",
    "### Feel free to use as many code cells as needed.\n",
    "\n",
    "# image_input: the test image being fed into the network to produce the feature maps\n",
    "# tf_activation: should be a tf variable name used during your training procedure that represents the calculated state of a specific weight layer\n",
    "# activation_min/max: can be used to view the activation contrast in more detail, by default matplot sets min and max to the actual min and max values of the output\n",
    "# plt_num: used to plot out multiple different weight feature map sets on the same block, just extend the plt number for each new feature map entry\n",
    "\n",
    "def outputFeatureMap(image_input, tf_activation, string_name, activation_min=-1, activation_max=-1 ,plt_num=1):\n",
    "    # Here make sure to preprocess your image_input in a way your network expects\n",
    "    # with size, normalization, ect if needed\n",
    "    # image_input =\n",
    "    # Note: x should be the same name as your network's tensorflow data placeholder variable\n",
    "    # If you get an error tf_activation is not defined it may be having trouble accessing the variable from inside a function\n",
    "    activation = tf_activation.eval(session=sess,feed_dict={x : image_input, keep_prob_:1.0})\n",
    "    featuremaps = activation.shape[3]\n",
    "    plt.figure(plt_num, figsize=(15,15))\n",
    "    \n",
    "    for featuremap in range(featuremaps):\n",
    "        plt.subplot(6,8, featuremap+1) # sets the number of feature maps to show on each row and column\n",
    "        plt.title('FeatureMap ' + str(featuremap)) # displays the feature map number\n",
    "        if activation_min != -1 & activation_max != -1:\n",
    "            plt.imshow(activation[0,:,:, featuremap], interpolation=\"nearest\", vmin =activation_min, vmax=activation_max, cmap=\"gray\")\n",
    "        elif activation_max != -1:\n",
    "            plt.imshow(activation[0,:,:, featuremap], interpolation=\"nearest\", vmax=activation_max, cmap=\"gray\")\n",
    "        elif activation_min !=-1:\n",
    "            plt.imshow(activation[0,:,:, featuremap], interpolation=\"nearest\", vmin=activation_min, cmap=\"gray\")\n",
    "        else:\n",
    "            plt.imshow(activation[0,:,:, featuremap], interpolation=\"nearest\", cmap=\"gray\")\n",
    "        plt.savefig(\"examples/features_{}.png\".format(featuremap + string_name))\n",
    "        "
   ]
  },
  {
   "cell_type": "code",
   "execution_count": null,
   "metadata": {
    "collapsed": true
   },
   "outputs": [],
   "source": [
    "index = random.randint(0, n_train-1) # upper bound is inclusive here\n",
    "image_in = np.array([X_train[index]])\n",
    "\n",
    "with tf.Session() as sess:\n",
    "    saver.restore(sess, tf.train.latest_checkpoint('.'))\n",
    "    print(\"Session restored.\")\n",
    "    outputFeatureMap(image_in, layers[\"conv1\"], \"conv1\")\n",
    "    outputFeatureMap(image_in, layers[\"conv2\"], \"conv2\")\n",
    "    outputFeatureMap(image_in, layers[\"conv3\"], \"conv3\")"
   ]
  }
 ],
 "metadata": {
  "anaconda-cloud": {},
  "kernelspec": {
   "display_name": "Python 3",
   "language": "python",
   "name": "python3"
  },
  "language_info": {
   "codemirror_mode": {
    "name": "ipython",
    "version": 3
   },
   "file_extension": ".py",
   "mimetype": "text/x-python",
   "name": "python",
   "nbconvert_exporter": "python",
   "pygments_lexer": "ipython3",
   "version": "3.5.2"
  },
  "widgets": {
   "state": {},
   "version": "1.1.2"
  }
 },
 "nbformat": 4,
 "nbformat_minor": 1
}
